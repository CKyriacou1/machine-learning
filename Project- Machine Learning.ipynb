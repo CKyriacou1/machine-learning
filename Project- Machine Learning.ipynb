{
 "cells": [
  {
   "cell_type": "markdown",
   "id": "5b612aec",
   "metadata": {},
   "source": [
    "# Machine Learning Module"
   ]
  },
  {
   "cell_type": "markdown",
   "id": "403eaed6",
   "metadata": {},
   "source": [
    "## Implementing convolutional neural network for image classification(CIFAR 10 dataset)"
   ]
  },
  {
   "cell_type": "code",
   "execution_count": 1,
   "id": "cca0ac47",
   "metadata": {},
   "outputs": [
    {
     "name": "stderr",
     "output_type": "stream",
     "text": [
      "C:\\Users\\stell\\anaconda3\\lib\\site-packages\\scipy\\__init__.py:146: UserWarning: A NumPy version >=1.16.5 and <1.23.0 is required for this version of SciPy (detected version 1.24.3\n",
      "  warnings.warn(f\"A NumPy version >={np_minversion} and <{np_maxversion}\"\n"
     ]
    }
   ],
   "source": [
    "#Import the necessary libraries\n",
    "from tensorflow.keras import Sequential, datasets \n",
    "from tensorflow.keras.layers import Dense, Flatten, Conv2D, MaxPooling2D\n",
    "import numpy as np\n",
    "from matplotlib import pyplot as plt \n",
    "from tensorflow.keras.utils import to_categorical"
   ]
  },
  {
   "cell_type": "code",
   "execution_count": 2,
   "id": "fd1deb25",
   "metadata": {},
   "outputs": [],
   "source": [
    "#Load the cifar10 dataset and assign it as a tuple as follows  \n",
    "(X_train_all, y_train_all),(X_test,y_test)=datasets.cifar10.load_data()"
   ]
  },
  {
   "cell_type": "code",
   "execution_count": 3,
   "id": "28b83909",
   "metadata": {},
   "outputs": [
    {
     "data": {
      "text/plain": [
       "(50000, 32, 32, 3)"
      ]
     },
     "execution_count": 3,
     "metadata": {},
     "output_type": "execute_result"
    }
   ],
   "source": [
    "#Dimensions of the X_train array(number of images,length of the image,width of the image,number of channels-rgb channel)\n",
    "X_train_all.shape"
   ]
  },
  {
   "cell_type": "code",
   "execution_count": 4,
   "id": "e116015b",
   "metadata": {},
   "outputs": [
    {
     "data": {
      "text/plain": [
       "(10000, 32, 32, 3)"
      ]
     },
     "execution_count": 4,
     "metadata": {},
     "output_type": "execute_result"
    }
   ],
   "source": [
    "#Dimenisons of the X_test array\n",
    "X_test.shape"
   ]
  },
  {
   "cell_type": "code",
   "execution_count": 5,
   "id": "e63de350",
   "metadata": {},
   "outputs": [
    {
     "data": {
      "text/plain": [
       "<matplotlib.image.AxesImage at 0x1833dbe7430>"
      ]
     },
     "execution_count": 5,
     "metadata": {},
     "output_type": "execute_result"
    },
    {
     "data": {
      "image/png": "[encoded data removed]",
      "text/plain": [
       "<Figure size 432x288 with 1 Axes>"
      ]
     },
     "metadata": {
      "needs_background": "light"
     },
     "output_type": "display_data"
    }
   ],
   "source": [
    "#Use matplotlib to view the image \n",
    "plt.imshow(X_train_all[0])"
   ]
  },
  {
   "cell_type": "code",
   "execution_count": 6,
   "id": "b66aef8c",
   "metadata": {},
   "outputs": [
    {
     "data": {
      "text/plain": [
       "array([[6],\n",
       "       [9],\n",
       "       [9],\n",
       "       ...,\n",
       "       [9],\n",
       "       [1],\n",
       "       [1]], dtype=uint8)"
      ]
     },
     "execution_count": 6,
     "metadata": {},
     "output_type": "execute_result"
    }
   ],
   "source": [
    "y_train_all"
   ]
  },
  {
   "cell_type": "code",
   "execution_count": 7,
   "id": "30c2a7bc",
   "metadata": {},
   "outputs": [
    {
     "data": {
      "text/plain": [
       "(50000, 1)"
      ]
     },
     "execution_count": 7,
     "metadata": {},
     "output_type": "execute_result"
    }
   ],
   "source": [
    "y_train_all.shape"
   ]
  },
  {
   "cell_type": "code",
   "execution_count": 8,
   "id": "8ac5dac3",
   "metadata": {},
   "outputs": [
    {
     "data": {
      "text/plain": [
       "6"
      ]
     },
     "execution_count": 8,
     "metadata": {},
     "output_type": "execute_result"
    }
   ],
   "source": [
    "#We have a 2 dimension numpy array\n",
    "y_train_all[0][0]"
   ]
  },
  {
   "cell_type": "code",
   "execution_count": 9,
   "id": "a8abf963",
   "metadata": {},
   "outputs": [],
   "source": [
    "LABEL_NAMES = ['airplane', 'automobile','bird','cat', 'deer', 'dog', 'frog', 'horse', 'ship', 'truck']"
   ]
  },
  {
   "cell_type": "code",
   "execution_count": 10,
   "id": "c2a609b8",
   "metadata": {},
   "outputs": [
    {
     "data": {
      "text/plain": [
       "'frog'"
      ]
     },
     "execution_count": 10,
     "metadata": {},
     "output_type": "execute_result"
    }
   ],
   "source": [
    "#Using the lable names to get the actual names of classes\n",
    "LABEL_NAMES[y_train_all[0][0]]"
   ]
  },
  {
   "cell_type": "code",
   "execution_count": 11,
   "id": "5248214c",
   "metadata": {},
   "outputs": [
    {
     "data": {
      "text/plain": [
       "(50000, 32, 32, 3)"
      ]
     },
     "execution_count": 11,
     "metadata": {},
     "output_type": "execute_result"
    }
   ],
   "source": [
    "#The shape of the image\n",
    "#32, 32 is the width and the height\n",
    "#3 is the number of channels (These are the number of colors): Red, Green & Blue (RGB)\n",
    "X_train_all.shape "
   ]
  },
  {
   "cell_type": "code",
   "execution_count": 12,
   "id": "00649143",
   "metadata": {},
   "outputs": [
    {
     "name": "stdout",
     "output_type": "stream",
     "text": [
      "Number of images = 50000 \t| width = 32 \t| height = 32 \t| channels = 3\n"
     ]
    }
   ],
   "source": [
    "#For the X_train data sample:\n",
    "number_of_images, width, height, number_of_channels=X_train_all.shape\n",
    "print(f'Number of images = {number_of_images} \\t| width = {width} \\t| height = {height} \\t| channels = {number_of_channels}')"
   ]
  },
  {
   "cell_type": "code",
   "execution_count": 13,
   "id": "917152a2",
   "metadata": {},
   "outputs": [
    {
     "data": {
      "text/plain": [
       "(10000, 32, 32, 3)"
      ]
     },
     "execution_count": 13,
     "metadata": {},
     "output_type": "execute_result"
    }
   ],
   "source": [
    "X_test.shape"
   ]
  },
  {
   "cell_type": "code",
   "execution_count": 14,
   "id": "78c75d0f",
   "metadata": {},
   "outputs": [],
   "source": [
    "#Normalise the data so that to make our machine learning model, be able to learn easier from the data\n",
    "#Each pixel value of the photo(for every channel) takes a value within the range of 0-255 so we divide each pixel vbalue with 255 and transform the range between 0-1\n",
    "X_train_all =X_train_all / 255.0\n",
    "X_test = X_test / 255.0"
   ]
  },
  {
   "cell_type": "code",
   "execution_count": 15,
   "id": "9a169b46",
   "metadata": {},
   "outputs": [
    {
     "data": {
      "text/plain": [
       "array([[6],\n",
       "       [9],\n",
       "       [9],\n",
       "       ...,\n",
       "       [9],\n",
       "       [1],\n",
       "       [1]], dtype=uint8)"
      ]
     },
     "execution_count": 15,
     "metadata": {},
     "output_type": "execute_result"
    }
   ],
   "source": [
    "y_train_all"
   ]
  },
  {
   "cell_type": "code",
   "execution_count": 16,
   "id": "6fc7eb26",
   "metadata": {},
   "outputs": [
    {
     "data": {
      "text/plain": [
       "array([[3],\n",
       "       [8],\n",
       "       [8],\n",
       "       ...,\n",
       "       [5],\n",
       "       [1],\n",
       "       [7]], dtype=uint8)"
      ]
     },
     "execution_count": 16,
     "metadata": {},
     "output_type": "execute_result"
    }
   ],
   "source": [
    "y_test"
   ]
  },
  {
   "cell_type": "code",
   "execution_count": 17,
   "id": "32c76582",
   "metadata": {},
   "outputs": [],
   "source": [
    "#Creating the categorical encoding for the 'y_train' and 'y_test' data\n",
    "y_categorical_train_all = to_categorical(y_train_all,10)\n",
    "y_categorical_test = to_categorical(y_test,10)"
   ]
  },
  {
   "cell_type": "code",
   "execution_count": 18,
   "id": "595d15df",
   "metadata": {},
   "outputs": [
    {
     "data": {
      "text/plain": [
       "array([[0., 0., 0., ..., 0., 0., 0.],\n",
       "       [0., 0., 0., ..., 0., 0., 1.],\n",
       "       [0., 0., 0., ..., 0., 0., 1.],\n",
       "       ...,\n",
       "       [0., 0., 0., ..., 0., 0., 1.],\n",
       "       [0., 1., 0., ..., 0., 0., 0.],\n",
       "       [0., 1., 0., ..., 0., 0., 0.]], dtype=float32)"
      ]
     },
     "execution_count": 18,
     "metadata": {},
     "output_type": "execute_result"
    }
   ],
   "source": [
    "y_categorical_train_all"
   ]
  },
  {
   "cell_type": "code",
   "execution_count": 19,
   "id": "5a2c3c8f",
   "metadata": {},
   "outputs": [
    {
     "data": {
      "text/plain": [
       "array([[0., 0., 0., ..., 0., 0., 0.],\n",
       "       [0., 0., 0., ..., 0., 1., 0.],\n",
       "       [0., 0., 0., ..., 0., 1., 0.],\n",
       "       ...,\n",
       "       [0., 0., 0., ..., 0., 0., 0.],\n",
       "       [0., 1., 0., ..., 0., 0., 0.],\n",
       "       [0., 0., 0., ..., 1., 0., 0.]], dtype=float32)"
      ]
     },
     "execution_count": 19,
     "metadata": {},
     "output_type": "execute_result"
    }
   ],
   "source": [
    "y_categorical_test"
   ]
  },
  {
   "cell_type": "code",
   "execution_count": 20,
   "id": "6c1572a9",
   "metadata": {},
   "outputs": [],
   "source": [
    "#Creating the validation dataset\n",
    "#Utilisng a validation dataset we ensure that only the our best version of our model reaches our testing dataset"
   ]
  },
  {
   "cell_type": "code",
   "execution_count": 21,
   "id": "2391d86f",
   "metadata": {},
   "outputs": [],
   "source": [
    "VALIDATION_SIZE = 10000"
   ]
  },
  {
   "cell_type": "code",
   "execution_count": 22,
   "id": "c18e42cd",
   "metadata": {},
   "outputs": [],
   "source": [
    "x_validation=X_train_all[:VALIDATION_SIZE]\n",
    "y_validation_categorical = y_categorical_train_all[:VALIDATION_SIZE]"
   ]
  },
  {
   "cell_type": "code",
   "execution_count": 23,
   "id": "c13ac8a5",
   "metadata": {},
   "outputs": [
    {
     "data": {
      "text/plain": [
       "(10000, 32, 32, 3)"
      ]
     },
     "execution_count": 23,
     "metadata": {},
     "output_type": "execute_result"
    }
   ],
   "source": [
    "x_validation.shape"
   ]
  },
  {
   "cell_type": "code",
   "execution_count": 24,
   "id": "901dc9db",
   "metadata": {},
   "outputs": [
    {
     "data": {
      "text/plain": [
       "(10000, 10)"
      ]
     },
     "execution_count": 24,
     "metadata": {},
     "output_type": "execute_result"
    }
   ],
   "source": [
    "y_validation_categorical.shape"
   ]
  },
  {
   "cell_type": "code",
   "execution_count": 25,
   "id": "658f9bc9",
   "metadata": {},
   "outputs": [
    {
     "data": {
      "text/plain": [
       "array([[[[0.23137255, 0.24313725, 0.24705882],\n",
       "         [0.16862745, 0.18039216, 0.17647059],\n",
       "         [0.19607843, 0.18823529, 0.16862745],\n",
       "         ...,\n",
       "         [0.61960784, 0.51764706, 0.42352941],\n",
       "         [0.59607843, 0.49019608, 0.4       ],\n",
       "         [0.58039216, 0.48627451, 0.40392157]],\n",
       "\n",
       "        [[0.0627451 , 0.07843137, 0.07843137],\n",
       "         [0.        , 0.        , 0.        ],\n",
       "         [0.07058824, 0.03137255, 0.        ],\n",
       "         ...,\n",
       "         [0.48235294, 0.34509804, 0.21568627],\n",
       "         [0.46666667, 0.3254902 , 0.19607843],\n",
       "         [0.47843137, 0.34117647, 0.22352941]],\n",
       "\n",
       "        [[0.09803922, 0.09411765, 0.08235294],\n",
       "         [0.0627451 , 0.02745098, 0.        ],\n",
       "         [0.19215686, 0.10588235, 0.03137255],\n",
       "         ...,\n",
       "         [0.4627451 , 0.32941176, 0.19607843],\n",
       "         [0.47058824, 0.32941176, 0.19607843],\n",
       "         [0.42745098, 0.28627451, 0.16470588]],\n",
       "\n",
       "        ...,\n",
       "\n",
       "        [[0.81568627, 0.66666667, 0.37647059],\n",
       "         [0.78823529, 0.6       , 0.13333333],\n",
       "         [0.77647059, 0.63137255, 0.10196078],\n",
       "         ...,\n",
       "         [0.62745098, 0.52156863, 0.2745098 ],\n",
       "         [0.21960784, 0.12156863, 0.02745098],\n",
       "         [0.20784314, 0.13333333, 0.07843137]],\n",
       "\n",
       "        [[0.70588235, 0.54509804, 0.37647059],\n",
       "         [0.67843137, 0.48235294, 0.16470588],\n",
       "         [0.72941176, 0.56470588, 0.11764706],\n",
       "         ...,\n",
       "         [0.72156863, 0.58039216, 0.36862745],\n",
       "         [0.38039216, 0.24313725, 0.13333333],\n",
       "         [0.3254902 , 0.20784314, 0.13333333]],\n",
       "\n",
       "        [[0.69411765, 0.56470588, 0.45490196],\n",
       "         [0.65882353, 0.50588235, 0.36862745],\n",
       "         [0.70196078, 0.55686275, 0.34117647],\n",
       "         ...,\n",
       "         [0.84705882, 0.72156863, 0.54901961],\n",
       "         [0.59215686, 0.4627451 , 0.32941176],\n",
       "         [0.48235294, 0.36078431, 0.28235294]]],\n",
       "\n",
       "\n",
       "       [[[0.60392157, 0.69411765, 0.73333333],\n",
       "         [0.49411765, 0.5372549 , 0.53333333],\n",
       "         [0.41176471, 0.40784314, 0.37254902],\n",
       "         ...,\n",
       "         [0.35686275, 0.37254902, 0.27843137],\n",
       "         [0.34117647, 0.35294118, 0.27843137],\n",
       "         [0.30980392, 0.31764706, 0.2745098 ]],\n",
       "\n",
       "        [[0.54901961, 0.62745098, 0.6627451 ],\n",
       "         [0.56862745, 0.6       , 0.60392157],\n",
       "         [0.49019608, 0.49019608, 0.4627451 ],\n",
       "         ...,\n",
       "         [0.37647059, 0.38823529, 0.30588235],\n",
       "         [0.30196078, 0.31372549, 0.24313725],\n",
       "         [0.27843137, 0.28627451, 0.23921569]],\n",
       "\n",
       "        [[0.54901961, 0.60784314, 0.64313725],\n",
       "         [0.54509804, 0.57254902, 0.58431373],\n",
       "         [0.45098039, 0.45098039, 0.43921569],\n",
       "         ...,\n",
       "         [0.30980392, 0.32156863, 0.25098039],\n",
       "         [0.26666667, 0.2745098 , 0.21568627],\n",
       "         [0.2627451 , 0.27058824, 0.21568627]],\n",
       "\n",
       "        ...,\n",
       "\n",
       "        [[0.68627451, 0.65490196, 0.65098039],\n",
       "         [0.61176471, 0.60392157, 0.62745098],\n",
       "         [0.60392157, 0.62745098, 0.66666667],\n",
       "         ...,\n",
       "         [0.16470588, 0.13333333, 0.14117647],\n",
       "         [0.23921569, 0.20784314, 0.22352941],\n",
       "         [0.36470588, 0.3254902 , 0.35686275]],\n",
       "\n",
       "        [[0.64705882, 0.60392157, 0.50196078],\n",
       "         [0.61176471, 0.59607843, 0.50980392],\n",
       "         [0.62352941, 0.63137255, 0.55686275],\n",
       "         ...,\n",
       "         [0.40392157, 0.36470588, 0.37647059],\n",
       "         [0.48235294, 0.44705882, 0.47058824],\n",
       "         [0.51372549, 0.4745098 , 0.51372549]],\n",
       "\n",
       "        [[0.63921569, 0.58039216, 0.47058824],\n",
       "         [0.61960784, 0.58039216, 0.47843137],\n",
       "         [0.63921569, 0.61176471, 0.52156863],\n",
       "         ...,\n",
       "         [0.56078431, 0.52156863, 0.54509804],\n",
       "         [0.56078431, 0.5254902 , 0.55686275],\n",
       "         [0.56078431, 0.52156863, 0.56470588]]],\n",
       "\n",
       "\n",
       "       [[[1.        , 1.        , 1.        ],\n",
       "         [0.99215686, 0.99215686, 0.99215686],\n",
       "         [0.99215686, 0.99215686, 0.99215686],\n",
       "         ...,\n",
       "         [0.99215686, 0.99215686, 0.99215686],\n",
       "         [0.99215686, 0.99215686, 0.99215686],\n",
       "         [0.99215686, 0.99215686, 0.99215686]],\n",
       "\n",
       "        [[1.        , 1.        , 1.        ],\n",
       "         [1.        , 1.        , 1.        ],\n",
       "         [1.        , 1.        , 1.        ],\n",
       "         ...,\n",
       "         [1.        , 1.        , 1.        ],\n",
       "         [1.        , 1.        , 1.        ],\n",
       "         [1.        , 1.        , 1.        ]],\n",
       "\n",
       "        [[1.        , 1.        , 1.        ],\n",
       "         [0.99607843, 0.99607843, 0.99607843],\n",
       "         [0.99607843, 0.99607843, 0.99607843],\n",
       "         ...,\n",
       "         [0.99607843, 0.99607843, 0.99607843],\n",
       "         [0.99607843, 0.99607843, 0.99607843],\n",
       "         [0.99607843, 0.99607843, 0.99607843]],\n",
       "\n",
       "        ...,\n",
       "\n",
       "        [[0.44313725, 0.47058824, 0.43921569],\n",
       "         [0.43529412, 0.4627451 , 0.43529412],\n",
       "         [0.41176471, 0.43921569, 0.41568627],\n",
       "         ...,\n",
       "         [0.28235294, 0.31764706, 0.31372549],\n",
       "         [0.28235294, 0.31372549, 0.30980392],\n",
       "         [0.28235294, 0.31372549, 0.30980392]],\n",
       "\n",
       "        [[0.43529412, 0.4627451 , 0.43137255],\n",
       "         [0.40784314, 0.43529412, 0.40784314],\n",
       "         [0.38823529, 0.41568627, 0.38431373],\n",
       "         ...,\n",
       "         [0.26666667, 0.29411765, 0.28627451],\n",
       "         [0.2745098 , 0.29803922, 0.29411765],\n",
       "         [0.30588235, 0.32941176, 0.32156863]],\n",
       "\n",
       "        [[0.41568627, 0.44313725, 0.41176471],\n",
       "         [0.38823529, 0.41568627, 0.38431373],\n",
       "         [0.37254902, 0.4       , 0.36862745],\n",
       "         ...,\n",
       "         [0.30588235, 0.33333333, 0.3254902 ],\n",
       "         [0.30980392, 0.33333333, 0.3254902 ],\n",
       "         [0.31372549, 0.3372549 , 0.32941176]]],\n",
       "\n",
       "\n",
       "       ...,\n",
       "\n",
       "\n",
       "       [[[0.27843137, 0.30196078, 0.17254902],\n",
       "         [0.23529412, 0.27058824, 0.1372549 ],\n",
       "         [0.29019608, 0.3254902 , 0.21960784],\n",
       "         ...,\n",
       "         [0.98431373, 0.98431373, 0.99215686],\n",
       "         [1.        , 1.        , 1.        ],\n",
       "         [0.74901961, 0.75294118, 0.72941176]],\n",
       "\n",
       "        [[0.34901961, 0.37647059, 0.24313725],\n",
       "         [0.31372549, 0.34901961, 0.22745098],\n",
       "         [0.2627451 , 0.30196078, 0.2       ],\n",
       "         ...,\n",
       "         [0.98039216, 0.97254902, 0.97647059],\n",
       "         [1.        , 0.99607843, 0.99607843],\n",
       "         [0.70980392, 0.70980392, 0.66666667]],\n",
       "\n",
       "        [[0.29019608, 0.31372549, 0.18039216],\n",
       "         [0.27058824, 0.30196078, 0.19607843],\n",
       "         [0.26666667, 0.30196078, 0.20784314],\n",
       "         ...,\n",
       "         [0.96470588, 0.96078431, 0.97254902],\n",
       "         [0.99607843, 0.99607843, 0.99607843],\n",
       "         [0.75686275, 0.76470588, 0.71764706]],\n",
       "\n",
       "        ...,\n",
       "\n",
       "        [[0.32941176, 0.33333333, 0.32941176],\n",
       "         [0.31372549, 0.31764706, 0.31764706],\n",
       "         [0.31372549, 0.31372549, 0.31372549],\n",
       "         ...,\n",
       "         [0.16078431, 0.16862745, 0.18823529],\n",
       "         [0.21568627, 0.21568627, 0.23137255],\n",
       "         [0.23921569, 0.24313725, 0.24705882]],\n",
       "\n",
       "        [[0.2627451 , 0.25882353, 0.2627451 ],\n",
       "         [0.25490196, 0.25098039, 0.25098039],\n",
       "         [0.24313725, 0.23921569, 0.23921569],\n",
       "         ...,\n",
       "         [0.24705882, 0.24705882, 0.25490196],\n",
       "         [0.26666667, 0.25882353, 0.2627451 ],\n",
       "         [0.27843137, 0.2745098 , 0.2627451 ]],\n",
       "\n",
       "        [[0.25882353, 0.16862745, 0.10980392],\n",
       "         [0.25882353, 0.17254902, 0.10980392],\n",
       "         [0.25490196, 0.16470588, 0.10588235],\n",
       "         ...,\n",
       "         [0.31372549, 0.28627451, 0.26666667],\n",
       "         [0.3254902 , 0.29411765, 0.27058824],\n",
       "         [0.32941176, 0.30196078, 0.26666667]]],\n",
       "\n",
       "\n",
       "       [[[0.98039216, 1.        , 1.        ],\n",
       "         [0.99607843, 0.99215686, 0.99607843],\n",
       "         [0.82745098, 0.87843137, 0.8627451 ],\n",
       "         ...,\n",
       "         [0.7372549 , 0.76470588, 0.75686275],\n",
       "         [1.        , 1.        , 1.        ],\n",
       "         [1.        , 0.99607843, 1.        ]],\n",
       "\n",
       "        [[0.98039216, 1.        , 1.        ],\n",
       "         [1.        , 0.99607843, 1.        ],\n",
       "         [0.83529412, 0.88235294, 0.87058824],\n",
       "         ...,\n",
       "         [0.74117647, 0.77647059, 0.76470588],\n",
       "         [1.        , 1.        , 1.        ],\n",
       "         [1.        , 0.99607843, 1.        ]],\n",
       "\n",
       "        [[0.98039216, 1.        , 1.        ],\n",
       "         [1.        , 0.99607843, 1.        ],\n",
       "         [0.83529412, 0.88627451, 0.87058824],\n",
       "         ...,\n",
       "         [0.72941176, 0.77647059, 0.76078431],\n",
       "         [1.        , 1.        , 1.        ],\n",
       "         [1.        , 0.99607843, 1.        ]],\n",
       "\n",
       "        ...,\n",
       "\n",
       "        [[1.        , 0.99607843, 1.        ],\n",
       "         [0.99607843, 0.99607843, 1.        ],\n",
       "         [0.83529412, 0.87843137, 0.86666667],\n",
       "         ...,\n",
       "         [0.82745098, 0.82745098, 0.84313725],\n",
       "         [1.        , 1.        , 1.        ],\n",
       "         [1.        , 0.99607843, 0.99607843]],\n",
       "\n",
       "        [[1.        , 0.99607843, 1.        ],\n",
       "         [0.98823529, 0.99215686, 0.99215686],\n",
       "         [0.85098039, 0.88235294, 0.87058824],\n",
       "         ...,\n",
       "         [0.83921569, 0.83529412, 0.84705882],\n",
       "         [1.        , 1.        , 1.        ],\n",
       "         [1.        , 0.99607843, 0.99607843]],\n",
       "\n",
       "        [[1.        , 0.99607843, 1.        ],\n",
       "         [0.99215686, 0.99215686, 0.99215686],\n",
       "         [0.85490196, 0.86666667, 0.8627451 ],\n",
       "         ...,\n",
       "         [0.83921569, 0.83137255, 0.84313725],\n",
       "         [1.        , 1.        , 1.        ],\n",
       "         [1.        , 0.99607843, 0.99607843]]],\n",
       "\n",
       "\n",
       "       [[[0.24313725, 0.21568627, 0.02745098],\n",
       "         [0.23921569, 0.21568627, 0.02745098],\n",
       "         [0.23529412, 0.21568627, 0.02352941],\n",
       "         ...,\n",
       "         [0.25098039, 0.22745098, 0.03921569],\n",
       "         [0.32156863, 0.29411765, 0.10980392],\n",
       "         [0.24313725, 0.21568627, 0.03529412]],\n",
       "\n",
       "        [[0.24313725, 0.21960784, 0.02745098],\n",
       "         [0.24705882, 0.20392157, 0.03137255],\n",
       "         [0.23921569, 0.18823529, 0.02352941],\n",
       "         ...,\n",
       "         [0.30196078, 0.27058824, 0.10980392],\n",
       "         [0.44705882, 0.41960784, 0.25490196],\n",
       "         [0.25098039, 0.22352941, 0.04705882]],\n",
       "\n",
       "        [[0.2627451 , 0.23137255, 0.05882353],\n",
       "         [0.30588235, 0.24313725, 0.10980392],\n",
       "         [0.45098039, 0.36470588, 0.25882353],\n",
       "         ...,\n",
       "         [0.39215686, 0.36078431, 0.22745098],\n",
       "         [0.46666667, 0.43529412, 0.29019608],\n",
       "         [0.24705882, 0.21960784, 0.04705882]],\n",
       "\n",
       "        ...,\n",
       "\n",
       "        [[0.63137255, 0.75294118, 0.49019608],\n",
       "         [0.62352941, 0.74509804, 0.48235294],\n",
       "         [0.62352941, 0.74509804, 0.48235294],\n",
       "         ...,\n",
       "         [0.59607843, 0.65490196, 0.48235294],\n",
       "         [0.61568627, 0.74509804, 0.50196078],\n",
       "         [0.61176471, 0.75294118, 0.48235294]],\n",
       "\n",
       "        [[0.63921569, 0.76470588, 0.49803922],\n",
       "         [0.63137255, 0.75294118, 0.49019608],\n",
       "         [0.63529412, 0.75686275, 0.49411765],\n",
       "         ...,\n",
       "         [0.63529412, 0.74901961, 0.50196078],\n",
       "         [0.63137255, 0.75686275, 0.49803922],\n",
       "         [0.63137255, 0.75686275, 0.49411765]],\n",
       "\n",
       "        [[0.6627451 , 0.78823529, 0.51764706],\n",
       "         [0.65490196, 0.77647059, 0.50980392],\n",
       "         [0.65490196, 0.77647059, 0.51372549],\n",
       "         ...,\n",
       "         [0.65490196, 0.77647059, 0.50980392],\n",
       "         [0.65490196, 0.77647059, 0.50980392],\n",
       "         [0.65490196, 0.77647059, 0.51372549]]]])"
      ]
     },
     "execution_count": 25,
     "metadata": {},
     "output_type": "execute_result"
    }
   ],
   "source": [
    "x_validation"
   ]
  },
  {
   "cell_type": "code",
   "execution_count": 26,
   "id": "03020e26",
   "metadata": {},
   "outputs": [
    {
     "data": {
      "text/plain": [
       "array([[0., 0., 0., ..., 0., 0., 0.],\n",
       "       [0., 0., 0., ..., 0., 0., 1.],\n",
       "       [0., 0., 0., ..., 0., 0., 1.],\n",
       "       ...,\n",
       "       [0., 1., 0., ..., 0., 0., 0.],\n",
       "       [0., 1., 0., ..., 0., 0., 0.],\n",
       "       [0., 0., 0., ..., 0., 0., 0.]], dtype=float32)"
      ]
     },
     "execution_count": 26,
     "metadata": {},
     "output_type": "execute_result"
    }
   ],
   "source": [
    "y_validation_categorical"
   ]
  },
  {
   "cell_type": "code",
   "execution_count": 27,
   "id": "67894df4",
   "metadata": {},
   "outputs": [],
   "source": [
    "#The last 40000 values will consist the training dataset\n",
    "X_train = X_train_all[VALIDATION_SIZE:]\n",
    "y_categorical_train= y_categorical_train_all[VALIDATION_SIZE:]"
   ]
  },
  {
   "cell_type": "code",
   "execution_count": 28,
   "id": "409f0703",
   "metadata": {},
   "outputs": [
    {
     "data": {
      "text/plain": [
       "(40000, 32, 32, 3)"
      ]
     },
     "execution_count": 28,
     "metadata": {},
     "output_type": "execute_result"
    }
   ],
   "source": [
    "X_train.shape"
   ]
  },
  {
   "cell_type": "code",
   "execution_count": 29,
   "id": "46b1a302",
   "metadata": {},
   "outputs": [
    {
     "data": {
      "text/plain": [
       "(40000, 10)"
      ]
     },
     "execution_count": 29,
     "metadata": {},
     "output_type": "execute_result"
    }
   ],
   "source": [
    "y_categorical_train.shape"
   ]
  },
  {
   "cell_type": "code",
   "execution_count": 30,
   "id": "23fc7896",
   "metadata": {},
   "outputs": [],
   "source": [
    "#BUILD THE MODEL"
   ]
  },
  {
   "cell_type": "code",
   "execution_count": 33,
   "id": "5a889e23",
   "metadata": {},
   "outputs": [],
   "source": [
    "# Develop the model\n",
    "model=Sequential()\n",
    "\n",
    "# FIRST SET OF LAYERS\n",
    "# Add a convolutional layer\n",
    "model.add(Conv2D(filters=64,strides=1,kernel_size=(3,3),activation='relu',input_shape=(32,32,3)))\n",
    "# Add a pooling layer\n",
    "model.add(MaxPooling2D(pool_size=(2,2)))\n",
    "          \n",
    "#SECOND SET OF LAYERS \n",
    "#Add another convolutional layer\n",
    "model.add(Conv2D(filters=64,strides=1,kernel_size=(3,3),activation='relu'))\n",
    "# Add another pulling layer\n",
    "model.add(MaxPooling2D(pool_size=(2,2)))\n",
    "        \n",
    "#Flatten our output for the subsequent dense layers(final layers)\n",
    "model.add(Flatten())\n",
    "\n",
    "#256 neurons in dense hidden layer-this number is changable depending on the complexity\n",
    "model.add(Dense(units=256,activation='relu'))\n",
    "#Last dense layer is the classifier, thus we select 10 neurons(10 possible classes)\n",
    "model.add(Dense(units=10,activation='softmax'))"
   ]
  },
  {
   "cell_type": "code",
   "execution_count": 34,
   "id": "bcc9afa8",
   "metadata": {},
   "outputs": [],
   "source": [
    "model.compile(loss='categorical_crossentropy',\n",
    "              optimizer='adam',\n",
    "              metrics=['accuracy'])"
   ]
  },
  {
   "cell_type": "code",
   "execution_count": 35,
   "id": "b46f444a",
   "metadata": {},
   "outputs": [
    {
     "name": "stdout",
     "output_type": "stream",
     "text": [
      "Model: \"sequential_1\"\n",
      "_________________________________________________________________\n",
      " Layer (type)                Output Shape              Param #   \n",
      "=================================================================\n",
      " conv2d_2 (Conv2D)           (None, 30, 30, 64)        1792      \n",
      "                                                                 \n",
      " max_pooling2d_2 (MaxPoolin  (None, 15, 15, 64)        0         \n",
      " g2D)                                                            \n",
      "                                                                 \n",
      " conv2d_3 (Conv2D)           (None, 13, 13, 64)        36928     \n",
      "                                                                 \n",
      " max_pooling2d_3 (MaxPoolin  (None, 6, 6, 64)          0         \n",
      " g2D)                                                            \n",
      "                                                                 \n",
      " flatten_1 (Flatten)         (None, 2304)              0         \n",
      "                                                                 \n",
      " dense_2 (Dense)             (None, 256)               590080    \n",
      "                                                                 \n",
      " dense_3 (Dense)             (None, 10)                2570      \n",
      "                                                                 \n",
      "=================================================================\n",
      "Total params: 631370 (2.41 MB)\n",
      "Trainable params: 631370 (2.41 MB)\n",
      "Non-trainable params: 0 (0.00 Byte)\n",
      "_________________________________________________________________\n"
     ]
    }
   ],
   "source": [
    "model.summary()"
   ]
  },
  {
   "cell_type": "code",
   "execution_count": 36,
   "id": "cd0dc812",
   "metadata": {},
   "outputs": [],
   "source": [
    "#Adding early stopping\n",
    "from tensorflow.keras.callbacks import EarlyStopping"
   ]
  },
  {
   "cell_type": "code",
   "execution_count": 37,
   "id": "e933c68d",
   "metadata": {},
   "outputs": [],
   "source": [
    "#Early stopping is a technique which stops model training when parameter updates remain the same on a validation test \n",
    "early_stop = EarlyStopping(monitor='val_loss',patience=2)"
   ]
  },
  {
   "cell_type": "code",
   "execution_count": 38,
   "id": "0f3e6b8d",
   "metadata": {},
   "outputs": [
    {
     "name": "stdout",
     "output_type": "stream",
     "text": [
      "Epoch 1/25\n",
      "1250/1250 [==============================] - 144s 113ms/step - loss: 1.4288 - accuracy: 0.4866 - val_loss: 1.0968 - val_accuracy: 0.6082\n",
      "Epoch 2/25\n",
      "1250/1250 [==============================] - 124s 99ms/step - loss: 1.0548 - accuracy: 0.6306 - val_loss: 1.0031 - val_accuracy: 0.6469\n",
      "Epoch 3/25\n",
      "1250/1250 [==============================] - 129s 103ms/step - loss: 0.8960 - accuracy: 0.6877 - val_loss: 0.9103 - val_accuracy: 0.6873\n",
      "Epoch 4/25\n",
      "1250/1250 [==============================] - 128s 102ms/step - loss: 0.7768 - accuracy: 0.7283 - val_loss: 0.9569 - val_accuracy: 0.6671\n",
      "Epoch 5/25\n",
      "1250/1250 [==============================] - 129s 104ms/step - loss: 0.6643 - accuracy: 0.7689 - val_loss: 0.8732 - val_accuracy: 0.7064\n",
      "Epoch 6/25\n",
      "1250/1250 [==============================] - 122s 97ms/step - loss: 0.5617 - accuracy: 0.8032 - val_loss: 0.8912 - val_accuracy: 0.7012\n",
      "Epoch 7/25\n",
      "1250/1250 [==============================] - 110s 88ms/step - loss: 0.4683 - accuracy: 0.8370 - val_loss: 1.0096 - val_accuracy: 0.6908\n"
     ]
    }
   ],
   "source": [
    "history = model.fit(X_train,y_categorical_train,epochs=25,validation_data=(x_validation,y_validation_categorical),callbacks=[early_stop])"
   ]
  },
  {
   "cell_type": "code",
   "execution_count": 39,
   "id": "5cf0cb0b",
   "metadata": {},
   "outputs": [
    {
     "data": {
      "text/plain": [
       "dict_keys(['loss', 'accuracy', 'val_loss', 'val_accuracy'])"
      ]
     },
     "execution_count": 39,
     "metadata": {},
     "output_type": "execute_result"
    }
   ],
   "source": [
    "model.history.history.keys()"
   ]
  },
  {
   "cell_type": "code",
   "execution_count": 40,
   "id": "3fb43e99",
   "metadata": {},
   "outputs": [],
   "source": [
    "#Include the relevant metrics into a dataframe\n",
    "import pandas as pd\n",
    "metrics = pd.DataFrame(model.history.history)"
   ]
  },
  {
   "cell_type": "code",
   "execution_count": 41,
   "id": "fe2a5692",
   "metadata": {},
   "outputs": [
    {
     "data": {
      "text/html": [
       "<div>\n",
       "<style scoped>\n",
       "    .dataframe tbody tr th:only-of-type {\n",
       "        vertical-align: middle;\n",
       "    }\n",
       "\n",
       "    .dataframe tbody tr th {\n",
       "        vertical-align: top;\n",
       "    }\n",
       "\n",
       "    .dataframe thead th {\n",
       "        text-align: right;\n",
       "    }\n",
       "</style>\n",
       "<table border=\"1\" class=\"dataframe\">\n",
       "  <thead>\n",
       "    <tr style=\"text-align: right;\">\n",
       "      <th></th>\n",
       "      <th>loss</th>\n",
       "      <th>accuracy</th>\n",
       "      <th>val_loss</th>\n",
       "      <th>val_accuracy</th>\n",
       "    </tr>\n",
       "  </thead>\n",
       "  <tbody>\n",
       "    <tr>\n",
       "      <th>0</th>\n",
       "      <td>1.428837</td>\n",
       "      <td>0.486600</td>\n",
       "      <td>1.096804</td>\n",
       "      <td>0.6082</td>\n",
       "    </tr>\n",
       "    <tr>\n",
       "      <th>1</th>\n",
       "      <td>1.054827</td>\n",
       "      <td>0.630550</td>\n",
       "      <td>1.003059</td>\n",
       "      <td>0.6469</td>\n",
       "    </tr>\n",
       "    <tr>\n",
       "      <th>2</th>\n",
       "      <td>0.896005</td>\n",
       "      <td>0.687725</td>\n",
       "      <td>0.910326</td>\n",
       "      <td>0.6873</td>\n",
       "    </tr>\n",
       "    <tr>\n",
       "      <th>3</th>\n",
       "      <td>0.776821</td>\n",
       "      <td>0.728325</td>\n",
       "      <td>0.956937</td>\n",
       "      <td>0.6671</td>\n",
       "    </tr>\n",
       "    <tr>\n",
       "      <th>4</th>\n",
       "      <td>0.664333</td>\n",
       "      <td>0.768875</td>\n",
       "      <td>0.873242</td>\n",
       "      <td>0.7064</td>\n",
       "    </tr>\n",
       "    <tr>\n",
       "      <th>5</th>\n",
       "      <td>0.561666</td>\n",
       "      <td>0.803200</td>\n",
       "      <td>0.891168</td>\n",
       "      <td>0.7012</td>\n",
       "    </tr>\n",
       "    <tr>\n",
       "      <th>6</th>\n",
       "      <td>0.468349</td>\n",
       "      <td>0.837000</td>\n",
       "      <td>1.009645</td>\n",
       "      <td>0.6908</td>\n",
       "    </tr>\n",
       "  </tbody>\n",
       "</table>\n",
       "</div>"
      ],
      "text/plain": [
       "       loss  accuracy  val_loss  val_accuracy\n",
       "0  1.428837  0.486600  1.096804        0.6082\n",
       "1  1.054827  0.630550  1.003059        0.6469\n",
       "2  0.896005  0.687725  0.910326        0.6873\n",
       "3  0.776821  0.728325  0.956937        0.6671\n",
       "4  0.664333  0.768875  0.873242        0.7064\n",
       "5  0.561666  0.803200  0.891168        0.7012\n",
       "6  0.468349  0.837000  1.009645        0.6908"
      ]
     },
     "execution_count": 41,
     "metadata": {},
     "output_type": "execute_result"
    }
   ],
   "source": [
    "metrics"
   ]
  },
  {
   "cell_type": "code",
   "execution_count": 42,
   "id": "ba9d7186",
   "metadata": {},
   "outputs": [
    {
     "data": {
      "image/png": "[encoded data removed]",
      "text/plain": [
       "<Figure size 432x288 with 1 Axes>"
      ]
     },
     "metadata": {
      "needs_background": "light"
     },
     "output_type": "display_data"
    }
   ],
   "source": [
    "metrics[['loss', 'val_loss']].plot()\n",
    "plt.title('Training Loss Vs Validation Loss', fontsize=16)\n",
    "plt.xlabel('Number of Epochs')\n",
    "plt.show()"
   ]
  },
  {
   "cell_type": "code",
   "execution_count": 43,
   "id": "30b3f87e",
   "metadata": {},
   "outputs": [
    {
     "data": {
      "image/png": "[encoded data removed]",
      "text/plain": [
       "<Figure size 432x288 with 1 Axes>"
      ]
     },
     "metadata": {
      "needs_background": "light"
     },
     "output_type": "display_data"
    }
   ],
   "source": [
    "metrics[['accuracy', 'val_accuracy']].plot()\n",
    "plt.title('Training Accuracy Vs Validation Accuracy', fontsize=16)\n",
    "plt.xlabel('Number of Epochs')\n",
    "plt.show()"
   ]
  },
  {
   "cell_type": "code",
   "execution_count": 44,
   "id": "981b0685",
   "metadata": {},
   "outputs": [
    {
     "name": "stdout",
     "output_type": "stream",
     "text": [
      "313/313 [==============================] - 9s 29ms/step - loss: 1.0101 - accuracy: 0.6895\n"
     ]
    },
    {
     "data": {
      "text/plain": [
       "[1.010068416595459, 0.6894999742507935]"
      ]
     },
     "execution_count": 44,
     "metadata": {},
     "output_type": "execute_result"
    }
   ],
   "source": [
    "#Evaluate the model for testing data\n",
    "model.evaluate(X_test,y_categorical_test)"
   ]
  },
  {
   "cell_type": "code",
   "execution_count": 230,
   "id": "4952cf94",
   "metadata": {},
   "outputs": [],
   "source": [
    "#Classification Report and Confusion matrix"
   ]
  },
  {
   "cell_type": "code",
   "execution_count": 231,
   "id": "d4041875",
   "metadata": {},
   "outputs": [],
   "source": [
    "from sklearn.metrics import classification_report, confusion_matrix"
   ]
  },
  {
   "cell_type": "code",
   "execution_count": 234,
   "id": "05e04198",
   "metadata": {},
   "outputs": [
    {
     "name": "stdout",
     "output_type": "stream",
     "text": [
      "313/313 [==============================] - 4s 11ms/step\n"
     ]
    }
   ],
   "source": [
    "predictions = model.predict(X_test)"
   ]
  },
  {
   "cell_type": "code",
   "execution_count": 235,
   "id": "e1d247dd",
   "metadata": {},
   "outputs": [
    {
     "data": {
      "text/plain": [
       "array([[2.14551147e-02, 1.04081619e-03, 6.26917481e-02, ...,\n",
       "        1.02446543e-03, 2.99954526e-02, 3.61176426e-05],\n",
       "       [1.51226655e-01, 2.28984267e-01, 8.11720895e-08, ...,\n",
       "        6.18736067e-08, 5.64496994e-01, 5.52845784e-02],\n",
       "       [3.95336486e-02, 3.31833303e-01, 1.85838027e-03, ...,\n",
       "        1.34381131e-04, 6.10948920e-01, 1.39947254e-02],\n",
       "       ...,\n",
       "       [1.02267895e-05, 1.31167369e-07, 3.97579744e-02, ...,\n",
       "        2.62154583e-02, 4.74616172e-06, 1.58402543e-07],\n",
       "       [5.55975974e-01, 1.15443565e-01, 1.72174361e-03, ...,\n",
       "        1.70346582e-03, 4.45578713e-03, 3.56910256e-04],\n",
       "       [7.66455798e-07, 4.29643535e-07, 1.30622720e-04, ...,\n",
       "        9.81209099e-01, 7.84658383e-08, 3.69861255e-07]], dtype=float32)"
      ]
     },
     "execution_count": 235,
     "metadata": {},
     "output_type": "execute_result"
    }
   ],
   "source": [
    "predictions"
   ]
  },
  {
   "cell_type": "code",
   "execution_count": 236,
   "id": "423ec71a",
   "metadata": {},
   "outputs": [
    {
     "data": {
      "text/plain": [
       "(10000, 10)"
      ]
     },
     "execution_count": 236,
     "metadata": {},
     "output_type": "execute_result"
    }
   ],
   "source": [
    "predictions.shape"
   ]
  },
  {
   "cell_type": "code",
   "execution_count": 253,
   "id": "9214f1ca",
   "metadata": {},
   "outputs": [],
   "source": [
    "index_prediction = np.argmax(predictions,axis=-1)"
   ]
  },
  {
   "cell_type": "code",
   "execution_count": 254,
   "id": "9f9d08a2",
   "metadata": {},
   "outputs": [
    {
     "data": {
      "text/plain": [
       "array([3, 8, 8, ..., 5, 0, 7], dtype=int64)"
      ]
     },
     "execution_count": 254,
     "metadata": {},
     "output_type": "execute_result"
    }
   ],
   "source": [
    "index_prediction"
   ]
  },
  {
   "cell_type": "code",
   "execution_count": 255,
   "id": "07af67f8",
   "metadata": {},
   "outputs": [
    {
     "data": {
      "text/plain": [
       "(10000,)"
      ]
     },
     "execution_count": 255,
     "metadata": {},
     "output_type": "execute_result"
    }
   ],
   "source": [
    "index_prediction.shape"
   ]
  },
  {
   "cell_type": "code",
   "execution_count": 256,
   "id": "efd630ff",
   "metadata": {},
   "outputs": [
    {
     "name": "stdout",
     "output_type": "stream",
     "text": [
      "              precision    recall  f1-score   support\n",
      "\n",
      "           0       0.64      0.75      0.69      1000\n",
      "           1       0.66      0.86      0.75      1000\n",
      "           2       0.55      0.55      0.55      1000\n",
      "           3       0.46      0.56      0.50      1000\n",
      "           4       0.59      0.62      0.60      1000\n",
      "           5       0.62      0.47      0.53      1000\n",
      "           6       0.76      0.68      0.72      1000\n",
      "           7       0.79      0.65      0.71      1000\n",
      "           8       0.69      0.80      0.74      1000\n",
      "           9       0.87      0.54      0.67      1000\n",
      "\n",
      "    accuracy                           0.65     10000\n",
      "   macro avg       0.66      0.65      0.65     10000\n",
      "weighted avg       0.66      0.65      0.65     10000\n",
      "\n"
     ]
    }
   ],
   "source": [
    "print(classification_report(y_test,index_prediction))"
   ]
  },
  {
   "cell_type": "code",
   "execution_count": 267,
   "id": "98a495c4",
   "metadata": {},
   "outputs": [
    {
     "data": {
      "text/plain": [
       "array([[750,  39,  43,  14,  16,   4,   7,   7, 105,  15],\n",
       "       [ 27, 859,   7,  14,   4,   2,   5,   3,  53,  26],\n",
       "       [102,  18, 550,  80, 100,  50,  51,  21,  26,   2],\n",
       "       [ 36,  25,  77, 562,  77, 106,  47,  21,  36,  13],\n",
       "       [ 43,  10,  85,  77, 622,  27,  63,  51,  21,   1],\n",
       "       [ 25,  12,  89, 255,  66, 465,  19,  50,  14,   5],\n",
       "       [ 17,  22,  70,  98,  55,  21, 682,   5,  28,   2],\n",
       "       [ 30,  17,  43,  75,  95,  57,  11, 649,   9,  14],\n",
       "       [ 95,  54,   7,  15,  13,   8,   5,   1, 797,   5],\n",
       "       [ 52, 244,  22,  36,  12,  10,   7,  14,  60, 543]], dtype=int64)"
      ]
     },
     "execution_count": 267,
     "metadata": {},
     "output_type": "execute_result"
    }
   ],
   "source": [
    "confusion_matrix(y_test,index_prediction)"
   ]
  },
  {
   "cell_type": "code",
   "execution_count": 270,
   "id": "af610d8f",
   "metadata": {},
   "outputs": [
    {
     "data": {
      "image/png": "[encoded data removed]",
      "text/plain": [
       "<Figure size 648x504 with 2 Axes>"
      ]
     },
     "metadata": {
      "needs_background": "light"
     },
     "output_type": "display_data"
    }
   ],
   "source": [
    "import seaborn as sns\n",
    "plt.figure(figsize=(9,7))\n",
    "sns.heatmap(confusion_matrix(y_test,index_prediction),annot=True,linewidths=1,linecolor='white')\n",
    "plt.ylabel('Truth values')\n",
    "plt.xlabel('Predicted Values')\n",
    "plt.title('Confusion Matrix of Predicted Values vs Truth values')\n",
    "plt.show()"
   ]
  },
  {
   "cell_type": "code",
   "execution_count": null,
   "id": "fce32fac",
   "metadata": {},
   "outputs": [],
   "source": [
    "#Prediction of a single image"
   ]
  },
  {
   "cell_type": "code",
   "execution_count": 281,
   "id": "af81fe99",
   "metadata": {},
   "outputs": [
    {
     "data": {
      "text/plain": [
       "<matplotlib.image.AxesImage at 0x1cdcff67eb0>"
      ]
     },
     "execution_count": 281,
     "metadata": {},
     "output_type": "execute_result"
    },
    {
     "data": {
      "image/png": "[encoded data removed]",
      "text/plain": [
       "<Figure size 432x288 with 1 Axes>"
      ]
     },
     "metadata": {
      "needs_background": "light"
     },
     "output_type": "display_data"
    }
   ],
   "source": [
    "plt.imshow(X_test[10])"
   ]
  },
  {
   "cell_type": "code",
   "execution_count": 282,
   "id": "c40001f0",
   "metadata": {},
   "outputs": [
    {
     "data": {
      "text/plain": [
       "'airplane'"
      ]
     },
     "execution_count": 282,
     "metadata": {},
     "output_type": "execute_result"
    }
   ],
   "source": [
    "LABEL_NAMES[y_test[10][0]]"
   ]
  },
  {
   "cell_type": "code",
   "execution_count": 275,
   "id": "e7bd42c9",
   "metadata": {},
   "outputs": [
    {
     "data": {
      "text/plain": [
       "6"
      ]
     },
     "execution_count": 275,
     "metadata": {},
     "output_type": "execute_result"
    }
   ],
   "source": [
    "#The tenth image within the testing dataset is correctly labelled as an airplane"
   ]
  },
  {
   "cell_type": "code",
   "execution_count": 289,
   "id": "d1a6d2f6",
   "metadata": {},
   "outputs": [],
   "source": [
    "#Function for image display along with the category refference\n",
    "def showImage(x,y,index):\n",
    "    plt.figure(figsize=(15,2))\n",
    "    plt.imshow(x[index])\n",
    "    plt.xlabel(LABEL_NAMES[y[index][0]])"
   ]
  },
  {
   "cell_type": "code",
   "execution_count": 290,
   "id": "fe744cb7",
   "metadata": {},
   "outputs": [
    {
     "data": {
      "image/png": "[encoded data removed]",
      "text/plain": [
       "<Figure size 1080x144 with 1 Axes>"
      ]
     },
     "metadata": {
      "needs_background": "light"
     },
     "output_type": "display_data"
    }
   ],
   "source": [
    "showImage(X_test,y_test,10)"
   ]
  },
  {
   "cell_type": "code",
   "execution_count": null,
   "id": "c8240376",
   "metadata": {},
   "outputs": [],
   "source": []
  },
  {
   "cell_type": "code",
   "execution_count": null,
   "id": "a1188439",
   "metadata": {},
   "outputs": [],
   "source": []
  },
  {
   "cell_type": "code",
   "execution_count": null,
   "id": "1af6fb5c",
   "metadata": {},
   "outputs": [],
   "source": []
  },
  {
   "cell_type": "code",
   "execution_count": null,
   "id": "7a195a77",
   "metadata": {},
   "outputs": [],
   "source": []
  }
 ],
 "metadata": {
  "kernelspec": {
   "display_name": "Python 3 (ipykernel)",
   "language": "python",
   "name": "python3"
  },
  "language_info": {
   "codemirror_mode": {
    "name": "ipython",
    "version": 3
   },
   "file_extension": ".py",
   "mimetype": "text/x-python",
   "name": "python",
   "nbconvert_exporter": "python",
   "pygments_lexer": "ipython3",
   "version": "3.9.7"
  },
  "toc": {
   "base_numbering": 1,
   "nav_menu": {},
   "number_sections": true,
   "sideBar": true,
   "skip_h1_title": false,
   "title_cell": "Table of Contents",
   "title_sidebar": "Contents",
   "toc_cell": false,
   "toc_position": {},
   "toc_section_display": true,
   "toc_window_display": false
  }
 },
 "nbformat": 4,
 "nbformat_minor": 5
}
